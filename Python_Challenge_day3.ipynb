{
 "cells": [
  {
   "cell_type": "code",
   "execution_count": 8,
   "metadata": {},
   "outputs": [
    {
     "name": "stdout",
     "output_type": "stream",
     "text": [
      "5\n"
     ]
    },
    {
     "data": {
      "text/plain": [
       "5"
      ]
     },
     "execution_count": 8,
     "metadata": {},
     "output_type": "execute_result"
    }
   ],
   "source": [
    "def a(*args):\n",
    "    sum = 0\n",
    "    for arg in args:\n",
    "        sum += arg\n",
    "    print(args[0])\n",
    "    return (sum)\n"
   ]
  },
  {
   "cell_type": "code",
   "execution_count": 18,
   "metadata": {},
   "outputs": [],
   "source": [
    "def add_to_dict(*args):\n",
    "    \n",
    "    count = 0\n",
    "    for arg in args:\n",
    "        count += 1\n",
    "    \n",
    "    if type(args[0]) != type({}):\n",
    "        return(print(\"You need to send a dictionary. You sent:\",str(type(args[0]))))\n",
    "    if count < 3:\n",
    "        print(\"You need to send a word and a definition\")\n",
    "    elif count == 3:\n",
    "        if args[1] in args[0]:\n",
    "            print(args[1],\"has is already on the dictionary. won't add.\")\n",
    "        else:\n",
    "            args[0][args[1]] = args[2]\n",
    "            print(args[1],\"has been added\")"
   ]
  },
  {
   "cell_type": "code",
   "execution_count": 17,
   "metadata": {},
   "outputs": [
    {
     "name": "stdout",
     "output_type": "stream",
     "text": [
      "add_to_dict(\"hello\", \"kimchi\"):\n",
      "You need to send a dictionary. You sent: <class 'str'>\n",
      "\n",
      "add_to_dict(my_english_dict, \"kimchi\"):\n",
      "You need to send a word and a definition\n",
      "\n",
      "add_to_dict(my_english_dict, \"kimchi\", \"The source of life.\"):\n",
      "kimchi has been added\n",
      "\n",
      "add_to_dict(my_english_dict, \"kimchi\", \"My fav. food\"):\n",
      "kimchi has is already on the dictionary. won't add.\n"
     ]
    }
   ],
   "source": [
    "my_english_dict = {} \n",
    "\n",
    "# Should not work. First argument should be a dict.\n",
    "print('add_to_dict(\"hello\", \"kimchi\"):')\n",
    "add_to_dict(\"hello\", \"kimchi\")\n",
    "\n",
    "# Should not work. Definition is required.\n",
    "print('\\nadd_to_dict(my_english_dict, \"kimchi\"):')\n",
    "add_to_dict(my_english_dict, \"kimchi\")\n",
    "\n",
    "# Should work.\n",
    "print('\\nadd_to_dict(my_english_dict, \"kimchi\", \"The source of life.\"):')\n",
    "add_to_dict(my_english_dict, \"kimchi\", \"The source of life.\")\n",
    "\n",
    "# Should not work. kimchi is already on the dict\n",
    "print('\\nadd_to_dict(my_english_dict, \"kimchi\", \"My fav. food\"):')\n",
    "add_to_dict(my_english_dict, \"kimchi\", \"My fav. food\")"
   ]
  },
  {
   "cell_type": "code",
   "execution_count": 36,
   "metadata": {},
   "outputs": [],
   "source": [
    "def get_from_dict(*args):\n",
    "    count = 0\n",
    "    for arg in args:\n",
    "        count += 1\n",
    "    \n",
    "    if type(args[0]) != type({}):\n",
    "        return(print(\"You need to send a dictionary. You sent:\",str(type(args[0]))))\n",
    "    if count < 2:\n",
    "        print(\"You need to send a word to search for.\")\n",
    "    else:\n",
    "        if args[1] in args[0]:\n",
    "            print(\"{}: {}\".format(args[1], args[0].get(args[1])))\n",
    "        else:\n",
    "            print(args[1],\"was not found in this dict.\")"
   ]
  },
  {
   "cell_type": "code",
   "execution_count": 37,
   "metadata": {
    "scrolled": true
   },
   "outputs": [
    {
     "name": "stdout",
     "output_type": "stream",
     "text": [
      "\n",
      "\n",
      "###### get_from_dict ######\n",
      "\n",
      "\n",
      "get_from_dict(\"hello\", \"kimchi\"):\n",
      "You need to send a dictionary. You sent: <class 'str'>\n",
      "\n",
      "get_from_dict(my_english_dict):\n",
      "You need to send a word to search for.\n",
      "\n",
      "get_from_dict(my_english_dict, \"galbi\"):\n",
      "galbi was not found in this dict.\n",
      "\n",
      "get_from_dict(my_english_dict, \"kimchi\"):\n",
      "kimchi: The source of life.\n"
     ]
    }
   ],
   "source": [
    "print(\"\\n\\n###### get_from_dict ######\\n\")\n",
    "\n",
    "# Should not work. First argument should be a dict.\n",
    "print('\\nget_from_dict(\"hello\", \"kimchi\"):')\n",
    "get_from_dict(\"hello\", \"kimchi\")\n",
    "\n",
    "# Should not work. Word to search from is required.\n",
    "print('\\nget_from_dict(my_english_dict):')\n",
    "get_from_dict(my_english_dict)\n",
    "\n",
    "# Should not work. Word is not found.\n",
    "print('\\nget_from_dict(my_english_dict, \"galbi\"):')\n",
    "get_from_dict(my_english_dict, \"galbi\")\n",
    "\n",
    "# Should work and print the definiton of 'kimchi'\n",
    "print('\\nget_from_dict(my_english_dict, \"kimchi\"):')\n",
    "get_from_dict(my_english_dict, \"kimchi\")"
   ]
  },
  {
   "cell_type": "code",
   "execution_count": 39,
   "metadata": {},
   "outputs": [],
   "source": [
    "def update_word(*args):\n",
    "    count = 0\n",
    "    for arg in args:\n",
    "        count += 1\n",
    "    \n",
    "    if type(args[0]) != type({}):\n",
    "        return(print(\"You need to send a dictionary. You sent:\",str(type(args[0]))))\n",
    "    if count < 3:\n",
    "        print(\"You need to send a word and a definition to update.\")\n",
    "    elif count == 3:\n",
    "        if args[1] in args[0]:\n",
    "            args[0][args[1]] = args[2]\n",
    "            print(args[1],\"has been updated to:\",args[2])\n",
    "        else:\n",
    "            print(args[1],\"is not on the dict. Can't update non-existing word.\")"
   ]
  },
  {
   "cell_type": "code",
   "execution_count": 40,
   "metadata": {},
   "outputs": [
    {
     "name": "stdout",
     "output_type": "stream",
     "text": [
      "\n",
      "\n",
      "###### update_word ######\n",
      "\n",
      "\n",
      "update_word(\"hello\", \"kimchi\"):\n",
      "You need to send a dictionary. You sent: <class 'str'>\n",
      "\n",
      "update_word(my_english_dict, \"kimchi\"):\n",
      "You need to send a word and a definition to update.\n",
      "\n",
      "update_word(my_english_dict, \"galbi\", \"Love it.\"):\n",
      "galbi is not on the dict. Can't update non-existing word.\n",
      "\n",
      "update_word(my_english_dict, \"kimchi\", \"Food from the gods.\"):\n",
      "kimchi has been updated to: Food from the gods.\n",
      "\n",
      "get_from_dict(my_english_dict, \"kimchi\"):\n",
      "kimchi: Food from the gods.\n"
     ]
    }
   ],
   "source": [
    "print(\"\\n\\n###### update_word ######\\n\")\n",
    "\n",
    "# Should not work. First argument should be a dict.\n",
    "print('\\nupdate_word(\"hello\", \"kimchi\"):')\n",
    "update_word(\"hello\", \"kimchi\")\n",
    "\n",
    "# Should not work. Word and definiton are required.\n",
    "print('\\nupdate_word(my_english_dict, \"kimchi\"):')\n",
    "update_word(my_english_dict, \"kimchi\")\n",
    "\n",
    "# Should not work. Word not found.\n",
    "print('\\nupdate_word(my_english_dict, \"galbi\", \"Love it.\"):')\n",
    "update_word(my_english_dict, \"galbi\", \"Love it.\")\n",
    "\n",
    "# Should work.\n",
    "print('\\nupdate_word(my_english_dict, \"kimchi\", \"Food from the gods.\"):')\n",
    "update_word(my_english_dict, \"kimchi\", \"Food from the gods.\")\n",
    "\n",
    "# Check the new value.\n",
    "print('\\nget_from_dict(my_english_dict, \"kimchi\"):')\n",
    "get_from_dict(my_english_dict, \"kimchi\")"
   ]
  },
  {
   "cell_type": "code",
   "execution_count": 41,
   "metadata": {},
   "outputs": [],
   "source": [
    "def delete_from_dict(*args):\n",
    "    count = 0\n",
    "    for arg in args:\n",
    "        count += 1\n",
    "    \n",
    "    if type(args[0]) != type({}):\n",
    "        return(print(\"You need to send a dictionary. You sent:\",str(type(args[0]))))\n",
    "    if count < 2:\n",
    "        print(\"You need to send a word to delete.\")\n",
    "    else:\n",
    "        if args[1] in args[0]:\n",
    "            del args[0][args[1]]\n",
    "            print(args[1],\"has been deleted.\")\n",
    "        else:\n",
    "            print(args[1],\"is not in this dict. Won't delete.\")"
   ]
  },
  {
   "cell_type": "code",
   "execution_count": 42,
   "metadata": {},
   "outputs": [
    {
     "name": "stdout",
     "output_type": "stream",
     "text": [
      "\n",
      "\n",
      "###### delete_from_dict ######\n",
      "\n",
      "\n",
      "delete_from_dict(\"hello\", \"kimchi\"):\n",
      "You need to send a dictionary. You sent: <class 'str'>\n",
      "\n",
      "delete_from_dict(my_english_dict):\n",
      "You need to send a word to delete.\n",
      "\n",
      "delete_from_dict(my_english_dict, \"galbi\"):\n",
      "galbi is not in this dict. Won't delete.\n",
      "\n",
      "delete_from_dict(my_english_dict, \"kimchi\"):\n",
      "kimchi has been deleted.\n",
      "\n",
      "get_from_dict(my_english_dict, \"kimchi\"):\n",
      "kimchi was not found in this dict.\n"
     ]
    }
   ],
   "source": [
    "print(\"\\n\\n###### delete_from_dict ######\\n\")\n",
    "\n",
    "# Should not work. First argument should be a dict.\n",
    "print('\\ndelete_from_dict(\"hello\", \"kimchi\"):')\n",
    "delete_from_dict(\"hello\", \"kimchi\")\n",
    "\n",
    "# Should not work. Word to delete is required.\n",
    "print('\\ndelete_from_dict(my_english_dict):')\n",
    "delete_from_dict(my_english_dict)\n",
    "\n",
    "# Should not work. Word not found.\n",
    "print('\\ndelete_from_dict(my_english_dict, \"galbi\"):')\n",
    "delete_from_dict(my_english_dict, \"galbi\")\n",
    "\n",
    "# Should work.\n",
    "print('\\ndelete_from_dict(my_english_dict, \"kimchi\"):')\n",
    "delete_from_dict(my_english_dict, \"kimchi\")\n",
    "\n",
    "# Check that it does not exist\n",
    "print('\\nget_from_dict(my_english_dict, \"kimchi\"):')\n",
    "get_from_dict(my_english_dict, \"kimchi\")\n",
    "\n",
    "# \\/\\/\\/\\/\\/\\/\\ END DO NOT TOUCH  \\/\\/\\/\\/\\/\\/\\"
   ]
  }
 ],
 "metadata": {
  "kernelspec": {
   "display_name": "Python 3",
   "language": "python",
   "name": "python3"
  },
  "language_info": {
   "codemirror_mode": {
    "name": "ipython",
    "version": 3
   },
   "file_extension": ".py",
   "mimetype": "text/x-python",
   "name": "python",
   "nbconvert_exporter": "python",
   "pygments_lexer": "ipython3",
   "version": "3.7.3"
  }
 },
 "nbformat": 4,
 "nbformat_minor": 2
}
