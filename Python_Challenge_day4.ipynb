{
 "cells": [
  {
   "cell_type": "code",
   "execution_count": 49,
   "metadata": {},
   "outputs": [],
   "source": [
    "import requests\n",
    "import os"
   ]
  },
  {
   "cell_type": "code",
   "execution_count": 43,
   "metadata": {},
   "outputs": [],
   "source": [
    "def get_list(): \n",
    "    urls = input(\"Please write a URL or URLs you want to check. (seperated by comma)\\n\")\n",
    "    url_list = urls.split(\",\")\n",
    "    for i, dirty in enumerate(url_list):\n",
    "        url_list[i] = dirty.strip()\n",
    "    return url_list\n",
    "\n",
    "def req_return(url):\n",
    "    http = \"http://\"\n",
    "    if http not in url:\n",
    "        url = http + url\n",
    "    try:\n",
    "        url_req = requests.get(url).status_code\n",
    "    except:\n",
    "        url_req = 404\n",
    "    return url, url_req\n",
    "\n",
    "def checker(url, url_req):\n",
    "    if url_req == 200:\n",
    "        print(url,\"is up!\")\n",
    "    else:\n",
    "        print(url,\"is down!\")"
   ]
  },
  {
   "cell_type": "code",
   "execution_count": 50,
   "metadata": {
    "scrolled": true
   },
   "outputs": [
    {
     "name": "stdout",
     "output_type": "stream",
     "text": [
      "Welcome to IsItDown.py!\n",
      "Please write a URL or URLs you want to check. (seperated by comma)\n",
      "google.com\n",
      "http://google.com is up!\n",
      "Do you want to start over? y/n y\n",
      "Please write a URL or URLs you want to check. (seperated by comma)\n",
      "n\n",
      "n is not a valid URL\n",
      "Do you want to start over? y/n n\n",
      "Bye.\n"
     ]
    }
   ],
   "source": [
    "print(\"Welcome to IsItDown.py!\")\n",
    "while (1):\n",
    "    url_list = get_list()\n",
    "    for url in url_list:\n",
    "        if \".com\" in url:\n",
    "            url, url_req = req_return(url)\n",
    "            checker(url, url_req)\n",
    "        else:\n",
    "            print(url,\"is not a valid URL\")\n",
    "    while (1):\n",
    "        ans = input(\"Do you want to start over? y/n \")\n",
    "        if (ans is \"y\") or (ans is \"n\"):\n",
    "            break\n",
    "        else:\n",
    "            print(\"That's not a valid answer\")\n",
    "    if ans == \"n\":\n",
    "        print(\"Bye.\")\n",
    "        break\n",
    "    if ans == \"y\":\n",
    "        os.system('clear')"
   ]
  }
 ],
 "metadata": {
  "kernelspec": {
   "display_name": "Python 3",
   "language": "python",
   "name": "python3"
  },
  "language_info": {
   "codemirror_mode": {
    "name": "ipython",
    "version": 3
   },
   "file_extension": ".py",
   "mimetype": "text/x-python",
   "name": "python",
   "nbconvert_exporter": "python",
   "pygments_lexer": "ipython3",
   "version": "3.7.3"
  }
 },
 "nbformat": 4,
 "nbformat_minor": 2
}
