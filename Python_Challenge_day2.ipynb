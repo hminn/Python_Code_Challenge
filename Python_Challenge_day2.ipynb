{
 "cells": [
  {
   "cell_type": "code",
   "execution_count": 9,
   "metadata": {},
   "outputs": [],
   "source": [
    "def is_on_list(days, day):\n",
    "    return (day in days)\n",
    "\n",
    "def get_x(days, ind):\n",
    "    return (days[ind])\n",
    "\n",
    "def add_x(days, day):\n",
    "    days.append(day)\n",
    "\n",
    "def remove_x(days, day):\n",
    "    days.pop(days.index(day))"
   ]
  },
  {
   "cell_type": "code",
   "execution_count": 10,
   "metadata": {},
   "outputs": [
    {
     "name": "stdout",
     "output_type": "stream",
     "text": [
      "Is Wed on 'days' list? True\n",
      "The fourth item in 'days' is: Thu\n",
      "['Mon', 'Tue', 'Wed', 'Thu', 'Fri', 'Sat', 'Sun', 'Sat']\n",
      "['Tue', 'Wed', 'Thu', 'Fri', 'Sat', 'Sun', 'Sat']\n"
     ]
    }
   ],
   "source": [
    "\"\"\"\n",
    "As you can see, the code is broken.\n",
    "Create the missing functions, use default arguments.\n",
    "Sometimes you have to use 'return' and sometimes you dont.\n",
    "Start by creating the functions\n",
    "\"\"\"\n",
    "\n",
    "# \\/\\/\\/\\/\\/\\/\\  DO NOT TOUCH AREA  \\/\\/\\/\\/\\/\\/\\ #\n",
    "\n",
    "days = [\"Mon\", \"Tue\", \"Wed\", \"Thu\", \"Fri\", \"Sat\", \"Sun\"]\n",
    "\n",
    "print(\"Is Wed on 'days' list?\", is_on_list(days, \"Wed\"))\n",
    "\n",
    "print(\"The fourth item in 'days' is:\", get_x(days, 3))\n",
    "\n",
    "add_x(days, \"Sat\")\n",
    "print(days)\n",
    "\n",
    "remove_x(days, \"Mon\")\n",
    "print(days)\n",
    "\n",
    "\n",
    "# /\\/\\/\\/\\/\\/\\/\\ END DO NOT TOUCH AREA /\\/\\/\\/\\/\\/\\/\\ #\n"
   ]
  },
  {
   "cell_type": "code",
   "execution_count": null,
   "metadata": {},
   "outputs": [],
   "source": []
  }
 ],
 "metadata": {
  "kernelspec": {
   "display_name": "Python 3",
   "language": "python",
   "name": "python3"
  },
  "language_info": {
   "codemirror_mode": {
    "name": "ipython",
    "version": 3
   },
   "file_extension": ".py",
   "mimetype": "text/x-python",
   "name": "python",
   "nbconvert_exporter": "python",
   "pygments_lexer": "ipython3",
   "version": "3.7.3"
  }
 },
 "nbformat": 4,
 "nbformat_minor": 2
}
