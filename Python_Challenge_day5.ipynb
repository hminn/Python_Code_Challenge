{
 "cells": [
  {
   "cell_type": "code",
   "execution_count": 60,
   "metadata": {},
   "outputs": [],
   "source": [
    "import os\n",
    "import re\n",
    "import requests\n",
    "from bs4 import BeautifulSoup"
   ]
  },
  {
   "cell_type": "code",
   "execution_count": 56,
   "metadata": {},
   "outputs": [],
   "source": [
    "def clean_td(td):\n",
    "    cleaner = re.compile('<.*?>')\n",
    "    cleaned_td = re.sub(cleaner, '', str(td))\n",
    "    return cleaned_td"
   ]
  },
  {
   "cell_type": "code",
   "execution_count": 57,
   "metadata": {},
   "outputs": [],
   "source": [
    "os.system('clear')\n",
    "url = requests.get(\"https://www.iban.com/currency-codes\")\n",
    "soup = BeautifulSoup(url.text, 'html.parser')"
   ]
  },
  {
   "cell_type": "code",
   "execution_count": 58,
   "metadata": {},
   "outputs": [],
   "source": [
    "all_td = soup.select(\"table > tbody > tr > td\")\n",
    "cc_dict = {}\n",
    "\n",
    "key = 0\n",
    "for i in range(0, len(all_td), 4):\n",
    "    country = clean_td(all_td[i]).lower().capitalize()\n",
    "    currency = clean_td(all_td[i + 1])\n",
    "    code = clean_td(all_td[i + 2])\n",
    "    if currency != 'No universal currency':\n",
    "        cc_dict[key] = [country, code]\n",
    "        key += 1\n",
    "\n",
    "country_td = {}\n",
    "code_td = {}\n",
    "for i, [country, code] in cc_dict.items():\n",
    "    country_td[i] = country\n",
    "    code_td[i] = code"
   ]
  },
  {
   "cell_type": "code",
   "execution_count": 61,
   "metadata": {},
   "outputs": [],
   "source": [
    "for key, value in country_td.items():\n",
    "    print(f\"# {key} {value}\")\n",
    "while (1):\n",
    "    try:\n",
    "        ans = int(input(\"#: \"))\n",
    "    except:\n",
    "        print(\"That wasn't a number.\")\n",
    "        continue\n",
    "    if ans > key :\n",
    "        print(\"Choose a number from the list.\")\n",
    "    else :\n",
    "        print(f\"You chose {country_td.get(ans)}\")\n",
    "        print(f\"The currency code is {code_td.get(ans)}\")\n",
    "        break"
   ]
  }
 ],
 "metadata": {
  "kernelspec": {
   "display_name": "Python 3",
   "language": "python",
   "name": "python3"
  },
  "language_info": {
   "codemirror_mode": {
    "name": "ipython",
    "version": 3
   },
   "file_extension": ".py",
   "mimetype": "text/x-python",
   "name": "python",
   "nbconvert_exporter": "python",
   "pygments_lexer": "ipython3",
   "version": "3.7.3"
  }
 },
 "nbformat": 4,
 "nbformat_minor": 2
}
